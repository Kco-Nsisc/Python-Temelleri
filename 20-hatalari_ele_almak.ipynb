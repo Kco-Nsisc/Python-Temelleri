{
 "cells": [
  {
   "cell_type": "markdown",
   "metadata": {},
   "source": [
    "## Hataları Ele Almak"
   ]
  },
  {
   "cell_type": "markdown",
   "metadata": {},
   "source": [
    "Daha önceden try except i kullanmıştık ama burada biraz daha detaylı işleyeceğiz."
   ]
  },
  {
   "cell_type": "code",
   "execution_count": 1,
   "metadata": {},
   "outputs": [],
   "source": [
    "def toplama(num1,num2):\n",
    "    return num1 + num2"
   ]
  },
  {
   "cell_type": "code",
   "execution_count": 3,
   "metadata": {},
   "outputs": [
    {
     "name": "stdout",
     "output_type": "stream",
     "text": [
      "İlk numarayı giriniz40\n",
      "İkinci sayıyı giriniz30\n"
     ]
    },
    {
     "data": {
      "text/plain": [
       "70"
      ]
     },
     "execution_count": 3,
     "metadata": {},
     "output_type": "execute_result"
    }
   ],
   "source": [
    "x = int(input(\"İlk numarayı giriniz\"))\n",
    "y = int(input(\"İkinci sayıyı giriniz\"))\n",
    "toplama(x,y) # eğer yanlış bir değer (mesela yazı) girersek hata verir. Bunu daha düzgün hale getirmek için;"
   ]
  },
  {
   "cell_type": "code",
   "execution_count": null,
   "metadata": {},
   "outputs": [
    {
     "name": "stdout",
     "output_type": "stream",
     "text": [
      "numaranızı giriniz 40\n",
      "teşekkürler \n",
      "finally çağırıldı \n",
      "numaranızı giriniz 3\n",
      "teşekkürler \n",
      "finally çağırıldı \n",
      "numaranızı giriniz g\n",
      "gerçek sayılar giriniz \n",
      "finally çağırıldı \n",
      "numaranızı giriniz 34\n",
      "teşekkürler \n",
      "finally çağırıldı \n"
     ]
    }
   ],
   "source": [
    "while True:\n",
    "    try:\n",
    "        benimİnt = int(input(\"numaranızı giriniz \")) #ilk olarak burayı yapıyor hata olursa except e geçiyor hata olmazsa else ye geçiyor tamamen bittiğinde finally ye geçip bitiyor.\n",
    "    except:\n",
    "        print(\"gerçek sayılar giriniz \")\n",
    "        continue\n",
    "    else:\n",
    "        print(\"teşekkürler \")\n",
    "    finally:\n",
    "        print(\"finally çağırıldı \")"
   ]
  }
 ],
 "metadata": {
  "kernelspec": {
   "display_name": "Python 3",
   "language": "python",
   "name": "python3"
  },
  "language_info": {
   "codemirror_mode": {
    "name": "ipython",
    "version": 3
   },
   "file_extension": ".py",
   "mimetype": "text/x-python",
   "name": "python",
   "nbconvert_exporter": "python",
   "pygments_lexer": "ipython3",
   "version": "3.8.5"
  }
 },
 "nbformat": 4,
 "nbformat_minor": 4
}
