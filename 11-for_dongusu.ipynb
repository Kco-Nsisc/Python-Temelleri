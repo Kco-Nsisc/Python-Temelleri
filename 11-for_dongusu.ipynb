{
 "cells": [
  {
   "cell_type": "markdown",
   "metadata": {},
   "source": [
    "## For Döngüleri"
   ]
  },
  {
   "cell_type": "markdown",
   "metadata": {},
   "source": [
    "Size bir soru soracağım bir listeniz var bu listedeki her bir eleman için bir işlem yapacaksınız mesela listede 1253 veri var ve bunları 5 ile çarpıp 3 ile bölmemiz gerekiyor. Nasıl bu verileri işleyeceğiz? Tabiki de döngüler kullanarak. Hadi for döngüsünü öğrenip kullanalım."
   ]
  },
  {
   "cell_type": "code",
   "execution_count": 1,
   "metadata": {},
   "outputs": [],
   "source": [
    "listem = [10,20,30,40,50]"
   ]
  },
  {
   "cell_type": "code",
   "execution_count": 2,
   "metadata": {},
   "outputs": [
    {
     "data": {
      "text/plain": [
       "16.666666666666668"
      ]
     },
     "execution_count": 2,
     "metadata": {},
     "output_type": "execute_result"
    }
   ],
   "source": [
    "listem[0] * 5 / 3"
   ]
  },
  {
   "cell_type": "code",
   "execution_count": 3,
   "metadata": {},
   "outputs": [
    {
     "data": {
      "text/plain": [
       "33.333333333333336"
      ]
     },
     "execution_count": 3,
     "metadata": {},
     "output_type": "execute_result"
    }
   ],
   "source": [
    "listem[1] * 5 / 3"
   ]
  },
  {
   "cell_type": "code",
   "execution_count": 4,
   "metadata": {},
   "outputs": [
    {
     "name": "stdout",
     "output_type": "stream",
     "text": [
      "10\n",
      "20\n",
      "30\n",
      "40\n",
      "50\n"
     ]
    }
   ],
   "source": [
    "for veri in listem:\n",
    "    print(veri)"
   ]
  },
  {
   "cell_type": "markdown",
   "metadata": {},
   "source": [
    "for yapısı şöyle çalışır, bizim elimizde bir liste var bu liste 5 elemana sahip bunlar 10,20,30,40 ve 50 for veri in listem diyor ki listem deki her elemanı sırasıyla (ilk başta 10 sonra 20 sonra 30 ...) veri değişkenine atıyor ve 1 kez kodları (print(veri))çalıştırıyor. Sonra diğer elemanı veri değişkenine atıyor. Bu bütün elemanlar bitinceye kadar oluyor. Ama bu veri adlı değişkenin adı veri olmak zorunda değil. Mesela;"
   ]
  },
  {
   "cell_type": "code",
   "execution_count": 5,
   "metadata": {},
   "outputs": [
    {
     "name": "stdout",
     "output_type": "stream",
     "text": [
      "16.666666666666668\n",
      "33.333333333333336\n",
      "50.0\n",
      "66.66666666666667\n",
      "83.33333333333333\n"
     ]
    }
   ],
   "source": [
    "for hhh in listem:\n",
    "    print(hhh * 5 / 3) #bizim amacımız 1253 veriyi işlemekti. Bunun gibi for un aldığı veriyi işleme sokarak bir şeyler yapabiliriz."
   ]
  },
  {
   "cell_type": "markdown",
   "metadata": {},
   "source": [
    "veri yerine hhh yazdık bu da çalıştı."
   ]
  },
  {
   "cell_type": "code",
   "execution_count": 6,
   "metadata": {},
   "outputs": [],
   "source": [
    "lister = [1,2,3,4,5,6]"
   ]
  },
  {
   "cell_type": "code",
   "execution_count": 7,
   "metadata": {},
   "outputs": [
    {
     "name": "stdout",
     "output_type": "stream",
     "text": [
      "2\n",
      "4\n",
      "6\n"
     ]
    }
   ],
   "source": [
    "for num in lister:\n",
    "    if num % 2 == 0:\n",
    "        print(num)"
   ]
  },
  {
   "cell_type": "code",
   "execution_count": 8,
   "metadata": {},
   "outputs": [],
   "source": [
    "yenistr = \"Kco NSİSC\""
   ]
  },
  {
   "cell_type": "code",
   "execution_count": 9,
   "metadata": {},
   "outputs": [
    {
     "name": "stdout",
     "output_type": "stream",
     "text": [
      "K\n",
      "c\n",
      "o\n",
      " \n",
      "N\n",
      "S\n",
      "İ\n",
      "S\n",
      "C\n"
     ]
    }
   ],
   "source": [
    "for jj in yenistr:\n",
    "    print(jj)"
   ]
  },
  {
   "cell_type": "markdown",
   "metadata": {},
   "source": [
    "for döngüsünün çalışması için sadece liste kullanmamız gerekmez. Yazılar, tupleler, sözlükler vb. for döngüsünde kullanılabilir."
   ]
  },
  {
   "cell_type": "code",
   "execution_count": 10,
   "metadata": {},
   "outputs": [],
   "source": [
    "benimtuple = (1,3,5,7,9,0)"
   ]
  },
  {
   "cell_type": "code",
   "execution_count": 11,
   "metadata": {},
   "outputs": [
    {
     "name": "stdout",
     "output_type": "stream",
     "text": [
      "-4\n",
      "-2\n",
      "0\n",
      "2\n",
      "4\n",
      "-5\n"
     ]
    }
   ],
   "source": [
    "for hd in benimtuple:\n",
    "    print(hd - 5)"
   ]
  },
  {
   "cell_type": "code",
   "execution_count": 12,
   "metadata": {},
   "outputs": [],
   "source": [
    "degisikliste = [(12.4,34.7),(48.4,86.6),(45.2,78)] #burada listenin bir verisi bir tuple "
   ]
  },
  {
   "cell_type": "code",
   "execution_count": 13,
   "metadata": {},
   "outputs": [
    {
     "data": {
      "text/plain": [
       "list"
      ]
     },
     "execution_count": 13,
     "metadata": {},
     "output_type": "execute_result"
    }
   ],
   "source": [
    "type(degisikliste)"
   ]
  },
  {
   "cell_type": "code",
   "execution_count": 14,
   "metadata": {},
   "outputs": [
    {
     "data": {
      "text/plain": [
       "tuple"
      ]
     },
     "execution_count": 14,
     "metadata": {},
     "output_type": "execute_result"
    }
   ],
   "source": [
    "type(degisikliste[0])"
   ]
  },
  {
   "cell_type": "code",
   "execution_count": 15,
   "metadata": {},
   "outputs": [
    {
     "name": "stdout",
     "output_type": "stream",
     "text": [
      "(12.4, 34.7)\n",
      "(48.4, 86.6)\n",
      "(45.2, 78)\n"
     ]
    }
   ],
   "source": [
    "for ele in degisikliste:\n",
    "    print(ele)"
   ]
  },
  {
   "cell_type": "code",
   "execution_count": 16,
   "metadata": {},
   "outputs": [
    {
     "name": "stdout",
     "output_type": "stream",
     "text": [
      "12.4\n",
      "48.4\n",
      "45.2\n"
     ]
    }
   ],
   "source": [
    "for (x,y) in degisikliste:\n",
    "    print(x)"
   ]
  },
  {
   "cell_type": "markdown",
   "metadata": {},
   "source": [
    "Buralarda anlatacak pek bir şey yok :) ama bu değişikliste' nin her elemanı -tuple olan- 3 adet sayı barındıracak şekilde ayarlanırsa bir değişken (x,y,z gibi)daha eklenir."
   ]
  },
  {
   "cell_type": "code",
   "execution_count": 17,
   "metadata": {},
   "outputs": [],
   "source": [
    "benimsozluk = {\"muz\" : 50, \"elma\" : 100, \"mandalina\" : 200}"
   ]
  },
  {
   "cell_type": "code",
   "execution_count": 18,
   "metadata": {},
   "outputs": [
    {
     "data": {
      "text/plain": [
       "dict_items([('muz', 50), ('elma', 100), ('mandalina', 200)])"
      ]
     },
     "execution_count": 18,
     "metadata": {},
     "output_type": "execute_result"
    }
   ],
   "source": [
    "benimsozluk.items() #items tupleler içine hem anahtarlrı hem verileri atar"
   ]
  },
  {
   "cell_type": "code",
   "execution_count": 19,
   "metadata": {},
   "outputs": [
    {
     "data": {
      "text/plain": [
       "dict_items"
      ]
     },
     "execution_count": 19,
     "metadata": {},
     "output_type": "execute_result"
    }
   ],
   "source": [
    "type(benimsozluk.items())"
   ]
  },
  {
   "cell_type": "markdown",
   "metadata": {},
   "source": [
    "Yeni bir sınıf"
   ]
  },
  {
   "cell_type": "code",
   "execution_count": 20,
   "metadata": {},
   "outputs": [
    {
     "name": "stdout",
     "output_type": "stream",
     "text": [
      "muz\n",
      "elma\n",
      "mandalina\n"
     ]
    }
   ],
   "source": [
    "for (anahtar,deger) in benimsozluk.items():\n",
    "    print(anahtar)"
   ]
  },
  {
   "cell_type": "code",
   "execution_count": 21,
   "metadata": {},
   "outputs": [
    {
     "name": "stdout",
     "output_type": "stream",
     "text": [
      "50\n",
      "100\n",
      "200\n"
     ]
    }
   ],
   "source": [
    "for (anahtar,deger) in benimsozluk.items():\n",
    "    print(deger)"
   ]
  },
  {
   "cell_type": "markdown",
   "metadata": {},
   "source": [
    "Bu örnekteki gibi sözlükler bu yöntemle for döngüsünde kullanılabilir."
   ]
  }
 ],
 "metadata": {
  "kernelspec": {
   "display_name": "Python 3",
   "language": "python",
   "name": "python3"
  },
  "language_info": {
   "codemirror_mode": {
    "name": "ipython",
    "version": 3
   },
   "file_extension": ".py",
   "mimetype": "text/x-python",
   "name": "python",
   "nbconvert_exporter": "python",
   "pygments_lexer": "ipython3",
   "version": "3.8.5"
  }
 },
 "nbformat": 4,
 "nbformat_minor": 4
}
