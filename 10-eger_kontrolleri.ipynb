{
 "cells": [
  {
   "cell_type": "markdown",
   "metadata": {},
   "source": [
    "## Eğer Kontrolleri"
   ]
  },
  {
   "cell_type": "markdown",
   "metadata": {},
   "source": [
    "Eğer kontrollerini günlük hayatta şuna benzetebiliriz; Markete git elma varsa elma al elma yoksa armut al armut da yoksa portakal al yani biri varsa onu yap yoksa diğerine bak gibi. HAdi bunu koda dökelim."
   ]
  },
  {
   "cell_type": "code",
   "execution_count": 1,
   "metadata": {},
   "outputs": [
    {
     "data": {
      "text/plain": [
       "True"
      ]
     },
     "execution_count": 1,
     "metadata": {},
     "output_type": "execute_result"
    }
   ],
   "source": [
    "3 > 1"
   ]
  },
  {
   "cell_type": "code",
   "execution_count": 2,
   "metadata": {},
   "outputs": [
    {
     "name": "stdout",
     "output_type": "stream",
     "text": [
      "kod çalıştı\n"
     ]
    }
   ],
   "source": [
    "if 3 > 1: #3, 1 den büyük o yüzden print çalıştı\n",
    "    print(\"kod çalıştı\")"
   ]
  },
  {
   "cell_type": "code",
   "execution_count": 3,
   "metadata": {},
   "outputs": [],
   "source": [
    "if 3 < 1: #3, 1 den küçük değil o yüzden print çalışmadı\n",
    "    print(\"kod çalıştı\")"
   ]
  },
  {
   "cell_type": "markdown",
   "metadata": {},
   "source": [
    "if şu şekilde çalışır, if 3 < 1: (3 < 1 doğruysa altındaki \"bir tab boşluk olan\" yerler çalışır. Eğer yanlışsa çalışmaz.)"
   ]
  },
  {
   "cell_type": "code",
   "execution_count": 4,
   "metadata": {},
   "outputs": [],
   "source": [
    "x = 5\n",
    "y = 4\n",
    "b = 5\n",
    "m = 6"
   ]
  },
  {
   "cell_type": "code",
   "execution_count": 5,
   "metadata": {},
   "outputs": [
    {
     "name": "stdout",
     "output_type": "stream",
     "text": [
      "x b ile eşit\n"
     ]
    }
   ],
   "source": [
    "if b == x: #fark ettiysen karşılaştırmalar if yapılarında kullanılabiliyor\n",
    "    print(\"x b ile eşit\")"
   ]
  },
  {
   "cell_type": "code",
   "execution_count": 6,
   "metadata": {},
   "outputs": [
    {
     "name": "stdout",
     "output_type": "stream",
     "text": [
      "m, b den büyük\n"
     ]
    }
   ],
   "source": [
    "if b > m: \n",
    "    print(\"b, m den büyük\")\n",
    "elif b < m:\n",
    "    print(\"m, b den büyük\")\n",
    "else:\n",
    "    print(\"eşitler\")"
   ]
  },
  {
   "cell_type": "markdown",
   "metadata": {},
   "source": [
    "burada olan şu if kendi yerine bakıyor b, m den büyükse tab boşluğu olan satırları çalıştır eğer büyük değilse elif e geç  elif de if gibi verilen değerin True olup olmadığına bakıyor, else ise hiçbiri olmuyorsa bunu yap diyor. Şey gibi düşün elma varsa elma var elma(if) yoksa bak armut varsa al(elif) hiçbiri yoksa portakal al(else)"
   ]
  },
  {
   "cell_type": "code",
   "execution_count": 7,
   "metadata": {},
   "outputs": [],
   "source": [
    "benimkah = \"batman\""
   ]
  },
  {
   "cell_type": "code",
   "execution_count": 8,
   "metadata": {},
   "outputs": [
    {
     "name": "stdout",
     "output_type": "stream",
     "text": [
      "Bir süper kahraman girin batman\n"
     ]
    }
   ],
   "source": [
    "secilenkahraman = input(\"Bir süper kahraman girin \")"
   ]
  },
  {
   "cell_type": "code",
   "execution_count": 9,
   "metadata": {},
   "outputs": [
    {
     "name": "stdout",
     "output_type": "stream",
     "text": [
      "benim seçtiğimi seçtiniz\n"
     ]
    }
   ],
   "source": [
    "if secilenkahraman == benimkah:\n",
    "    print(\"benim seçtiğimi seçtiniz\")\n",
    "elif secilenkahraman == \"SUPERMAN\":\n",
    "    print(\"ah beee\")\n",
    "else:\n",
    "    print(\"o kimmiş\")    "
   ]
  },
  {
   "cell_type": "markdown",
   "metadata": {},
   "source": [
    "batman if yapsını çalıştırdığı için benim seçtiğimi seçtiniz yazdı."
   ]
  },
  {
   "cell_type": "code",
   "execution_count": 10,
   "metadata": {},
   "outputs": [],
   "source": [
    "k = 5\n",
    "m = 0\n",
    "n = 4"
   ]
  },
  {
   "cell_type": "code",
   "execution_count": 11,
   "metadata": {},
   "outputs": [],
   "source": [
    "if k < n and m < k:\n",
    "    print(\"hdg\")"
   ]
  },
  {
   "cell_type": "code",
   "execution_count": 12,
   "metadata": {},
   "outputs": [
    {
     "name": "stdout",
     "output_type": "stream",
     "text": [
      "hdg\n"
     ]
    }
   ],
   "source": [
    "if k < n or m < k:\n",
    "    print(\"hdg\")"
   ]
  },
  {
   "cell_type": "markdown",
   "metadata": {},
   "source": [
    "Buraları daha önce açıladık o yüzden tekrar açıklamıyorum."
   ]
  },
  {
   "cell_type": "code",
   "execution_count": 13,
   "metadata": {},
   "outputs": [],
   "source": [
    "karakteryasama = False"
   ]
  },
  {
   "cell_type": "code",
   "execution_count": 14,
   "metadata": {},
   "outputs": [
    {
     "name": "stdout",
     "output_type": "stream",
     "text": [
      "karakter yaşamıyor\n"
     ]
    }
   ],
   "source": [
    "if karakteryasama == True:\n",
    "    print(\"karakter yaşıyor\")\n",
    "else:\n",
    "    print(\"karakter yaşamıyor\")"
   ]
  },
  {
   "cell_type": "code",
   "execution_count": 15,
   "metadata": {},
   "outputs": [
    {
     "name": "stdout",
     "output_type": "stream",
     "text": [
      "karakter yaşamıyor\n"
     ]
    }
   ],
   "source": [
    "if karakteryasama:\n",
    "    print(\"karakter yaşıyor\")\n",
    "else:\n",
    "    print(\"karakter yaşamıyor\")"
   ]
  },
  {
   "cell_type": "markdown",
   "metadata": {},
   "source": [
    "Eğer boolean bir değişkenimiz varsa bu değişkenin True olup olmadığına bakmak için == kullanmak yerine direkt değişken adını girebiliriz."
   ]
  },
  {
   "cell_type": "code",
   "execution_count": 16,
   "metadata": {},
   "outputs": [
    {
     "name": "stdout",
     "output_type": "stream",
     "text": [
      "karakter yaşıyor\n"
     ]
    }
   ],
   "source": [
    "if not karakteryasama:\n",
    "    print(\"karakter yaşıyor\")\n",
    "else:\n",
    "    print(\"karakter yaşamıyor\")"
   ]
  },
  {
   "cell_type": "markdown",
   "metadata": {},
   "source": [
    "Bu da tersi"
   ]
  },
  {
   "cell_type": "code",
   "execution_count": 17,
   "metadata": {},
   "outputs": [],
   "source": [
    "benimstr = \"Kco Nsisc\""
   ]
  },
  {
   "cell_type": "code",
   "execution_count": 18,
   "metadata": {},
   "outputs": [
    {
     "name": "stdout",
     "output_type": "stream",
     "text": [
      "eşit değilmiş\n"
     ]
    }
   ],
   "source": [
    "if benimstr == \"kco Nsisc\":\n",
    "    print(\"eşitmiş\")\n",
    "else:\n",
    "    print(\"eşit değilmiş\")"
   ]
  },
  {
   "cell_type": "markdown",
   "metadata": {},
   "source": [
    "Demek ki neymiş büyük küçük harf ayrımı varmış. Bunun önüne geçebilmek için ya kullanıcıya harfleri nasıl yazacağı söylenir ya da .upper(bunun gibi şeyler) metodu kullanılır."
   ]
  },
  {
   "cell_type": "code",
   "execution_count": 19,
   "metadata": {
    "scrolled": true
   },
   "outputs": [
    {
     "name": "stdout",
     "output_type": "stream",
     "text": [
      "varmış\n"
     ]
    }
   ],
   "source": [
    "if \"Kco\" in benimstr:\n",
    "    print(\"varmış\")\n",
    "else:\n",
    "    print(\"yokmuş\")"
   ]
  },
  {
   "cell_type": "code",
   "execution_count": 20,
   "metadata": {},
   "outputs": [
    {
     "name": "stdout",
     "output_type": "stream",
     "text": [
      "yokmuş\n"
     ]
    }
   ],
   "source": [
    "if \"kco\" in benimstr:\n",
    "    print(\"varmış\")\n",
    "else:\n",
    "    print(\"yokmuş\")"
   ]
  },
  {
   "cell_type": "code",
   "execution_count": 21,
   "metadata": {},
   "outputs": [
    {
     "name": "stdout",
     "output_type": "stream",
     "text": [
      "varmış\n"
     ]
    }
   ],
   "source": [
    "if \"co\" in benimstr:\n",
    "    print(\"varmış\")\n",
    "else:\n",
    "    print(\"yokmuş\")"
   ]
  },
  {
   "cell_type": "markdown",
   "metadata": {},
   "source": [
    "Burada seçilen yazı seçilen yerde var mı sorusunu soruyor"
   ]
  },
  {
   "cell_type": "code",
   "execution_count": 22,
   "metadata": {},
   "outputs": [],
   "source": [
    "benimliste = [40,45,6,7,33,88,222,\"fjd\"]"
   ]
  },
  {
   "cell_type": "code",
   "execution_count": 23,
   "metadata": {},
   "outputs": [
    {
     "name": "stdout",
     "output_type": "stream",
     "text": [
      "varmış\n"
     ]
    }
   ],
   "source": [
    "if 40 in benimliste:\n",
    "    print(\"varmış\")\n",
    "else:\n",
    "    print(\"yokmuş\")"
   ]
  },
  {
   "cell_type": "code",
   "execution_count": 24,
   "metadata": {},
   "outputs": [
    {
     "name": "stdout",
     "output_type": "stream",
     "text": [
      "varmış\n"
     ]
    }
   ],
   "source": [
    "if 33 in benimliste:\n",
    "    print(\"varmış\")\n",
    "else:\n",
    "    print(\"yokmuş\")"
   ]
  },
  {
   "cell_type": "code",
   "execution_count": 25,
   "metadata": {},
   "outputs": [
    {
     "name": "stdout",
     "output_type": "stream",
     "text": [
      "yokmuş\n"
     ]
    }
   ],
   "source": [
    "if 99999 in benimliste:\n",
    "    print(\"varmış\")\n",
    "else:\n",
    "    print(\"yokmuş\")"
   ]
  },
  {
   "cell_type": "code",
   "execution_count": 26,
   "metadata": {},
   "outputs": [],
   "source": [
    "benimsozluk = {\"ali\" : 48,\"veli\" : 84, 24 : \"ahmet\"}"
   ]
  },
  {
   "cell_type": "code",
   "execution_count": 27,
   "metadata": {},
   "outputs": [],
   "source": [
    "ben = benimsozluk.keys() #keys bize key-value ilişkisindeki keyleri veriyor"
   ]
  },
  {
   "cell_type": "code",
   "execution_count": 28,
   "metadata": {},
   "outputs": [
    {
     "data": {
      "text/plain": [
       "dict_keys(['ali', 'veli', 24])"
      ]
     },
     "execution_count": 28,
     "metadata": {},
     "output_type": "execute_result"
    }
   ],
   "source": [
    "ben"
   ]
  },
  {
   "cell_type": "code",
   "execution_count": 29,
   "metadata": {
    "scrolled": false
   },
   "outputs": [
    {
     "name": "stdout",
     "output_type": "stream",
     "text": [
      "varmış\n"
     ]
    }
   ],
   "source": [
    "if \"ali\" in ben:\n",
    "    print(\"varmış\")\n",
    "else:\n",
    "    print(\"yokmuş\")"
   ]
  },
  {
   "cell_type": "markdown",
   "metadata": {},
   "source": [
    "in komutu sadece yazılarda kullanılmaz, sözlük, liste vb. kullanılır"
   ]
  }
 ],
 "metadata": {
  "kernelspec": {
   "display_name": "Python 3",
   "language": "python",
   "name": "python3"
  },
  "language_info": {
   "codemirror_mode": {
    "name": "ipython",
    "version": 3
   },
   "file_extension": ".py",
   "mimetype": "text/x-python",
   "name": "python",
   "nbconvert_exporter": "python",
   "pygments_lexer": "ipython3",
   "version": "3.8.5"
  }
 },
 "nbformat": 4,
 "nbformat_minor": 4
}
