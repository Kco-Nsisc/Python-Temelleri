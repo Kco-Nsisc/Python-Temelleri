{
 "cells": [
  {
   "cell_type": "markdown",
   "metadata": {},
   "source": [
    "## Kapsam"
   ]
  },
  {
   "cell_type": "markdown",
   "metadata": {},
   "source": [
    "Eğer fonksiyonların yazılması, kullanılması vb. anlamadıysan burayı anlamayablirsin. Bi tekrar edip gel olur mu?"
   ]
  },
  {
   "cell_type": "code",
   "execution_count": 1,
   "metadata": {},
   "outputs": [],
   "source": [
    "numara = 20"
   ]
  },
  {
   "cell_type": "code",
   "execution_count": 2,
   "metadata": {},
   "outputs": [],
   "source": [
    "def carpma(rakam):\n",
    "    numara = 10\n",
    "    return numara * rakam"
   ]
  },
  {
   "cell_type": "code",
   "execution_count": 3,
   "metadata": {},
   "outputs": [
    {
     "data": {
      "text/plain": [
       "20"
      ]
     },
     "execution_count": 3,
     "metadata": {},
     "output_type": "execute_result"
    }
   ],
   "source": [
    "carpma(2)"
   ]
  },
  {
   "cell_type": "code",
   "execution_count": 4,
   "metadata": {},
   "outputs": [
    {
     "data": {
      "text/plain": [
       "20"
      ]
     },
     "execution_count": 4,
     "metadata": {},
     "output_type": "execute_result"
    }
   ],
   "source": [
    "numara"
   ]
  },
  {
   "cell_type": "markdown",
   "metadata": {},
   "source": [
    "eee numara 20 ise 2 ile çarptığımızda kırk etmesi gerekiyor. Açıklama şu biz fonksiyonu çağırdığımızda numara 10, çağırmadığımızda numara 20 oluyor.(Tam açıklayamadım ama birazdan anlayacaksın)"
   ]
  },
  {
   "cell_type": "code",
   "execution_count": 5,
   "metadata": {},
   "outputs": [],
   "source": [
    "benimAdım = \"kco\"\n",
    "#Global\n",
    "def adlar():\n",
    "    benimAdım = \"atıl\"\n",
    "   #Enclosing\n",
    "    def altAdlar():\n",
    "        benimAdım = \"ali\"\n",
    "        #Local\n",
    "        print(benimAdım)\n",
    "    altAdlar()"
   ]
  },
  {
   "cell_type": "code",
   "execution_count": 6,
   "metadata": {},
   "outputs": [
    {
     "name": "stdout",
     "output_type": "stream",
     "text": [
      "ali\n"
     ]
    }
   ],
   "source": [
    "adlar()"
   ]
  },
  {
   "cell_type": "code",
   "execution_count": 7,
   "metadata": {},
   "outputs": [
    {
     "name": "stdout",
     "output_type": "stream",
     "text": [
      "kco\n"
     ]
    }
   ],
   "source": [
    "print(benimAdım)"
   ]
  },
  {
   "cell_type": "markdown",
   "metadata": {},
   "source": [
    "burada olan şu benimAdım' ı yazdıracakken sırası ile bakıyor: Local, enclosing, global, built-in. Yani ilk başta en alt veya en içeride olan değişkene bakıyor. Orada bulamazsa bir üstte veya dışarıda olan değişkene bakıyor. Orada bulamazsa bu zamana kadar yazılmış eşitlemelere bakıyor (başka fonksinyonlar hariç). En sonunda onu da bulamazsa böyle bir kod var mı diye bakıyor. Onu da bulamazsa hata veriyor. Peki ben global değişkeni fonksiyonda kullanmak istiyorsam? İzle ve gör."
   ]
  },
  {
   "cell_type": "code",
   "execution_count": 8,
   "metadata": {},
   "outputs": [],
   "source": [
    "x = 10"
   ]
  },
  {
   "cell_type": "code",
   "execution_count": 9,
   "metadata": {},
   "outputs": [],
   "source": [
    "def kontrol():\n",
    "    global x \n",
    "    x = 3"
   ]
  },
  {
   "cell_type": "code",
   "execution_count": 10,
   "metadata": {},
   "outputs": [],
   "source": [
    "kontrol()"
   ]
  },
  {
   "cell_type": "code",
   "execution_count": 11,
   "metadata": {},
   "outputs": [
    {
     "data": {
      "text/plain": [
       "3"
      ]
     },
     "execution_count": 11,
     "metadata": {},
     "output_type": "execute_result"
    }
   ],
   "source": [
    "x"
   ]
  },
  {
   "cell_type": "markdown",
   "metadata": {},
   "source": [
    "Burada global olan x i aldık fonksiyona."
   ]
  }
 ],
 "metadata": {
  "kernelspec": {
   "display_name": "Python 3",
   "language": "python",
   "name": "python3"
  },
  "language_info": {
   "codemirror_mode": {
    "name": "ipython",
    "version": 3
   },
   "file_extension": ".py",
   "mimetype": "text/x-python",
   "name": "python",
   "nbconvert_exporter": "python",
   "pygments_lexer": "ipython3",
   "version": "3.8.5"
  }
 },
 "nbformat": 4,
 "nbformat_minor": 4
}
