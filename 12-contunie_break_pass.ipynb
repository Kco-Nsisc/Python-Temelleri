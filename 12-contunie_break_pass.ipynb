{
 "cells": [
  {
   "cell_type": "markdown",
   "metadata": {},
   "source": [
    "## Contunie, Break ve Pass"
   ]
  },
  {
   "cell_type": "markdown",
   "metadata": {},
   "source": [
    "For döngüsünü öğrendik. Fakat bazı durumlarda bu for dögüsünü bazen durdurma, bazı durumlarda o veriyi atlama ihtiyacı duyarız. Veya for döngüsünü yazacağız ama ne yapacağımızı bilmiyoruz boş durduğunda hata vermesini engelleme ihtiyacı duyarız. Bu dosyada bu ihtiyaçlarımızı gidereceğiz."
   ]
  },
  {
   "cell_type": "code",
   "execution_count": 1,
   "metadata": {},
   "outputs": [],
   "source": [
    "benimlist = [5,10,20,30,40,50]"
   ]
  },
  {
   "cell_type": "code",
   "execution_count": 2,
   "metadata": {},
   "outputs": [
    {
     "name": "stdout",
     "output_type": "stream",
     "text": [
      "10.0\n",
      "20.0\n",
      "40.0\n",
      "60.0\n",
      "80.0\n",
      "100.0\n"
     ]
    }
   ],
   "source": [
    "for num in benimlist:\n",
    "    print(num * 4 / 2)"
   ]
  },
  {
   "cell_type": "code",
   "execution_count": 3,
   "metadata": {},
   "outputs": [
    {
     "name": "stdout",
     "output_type": "stream",
     "text": [
      "5\n",
      "10\n",
      "20\n"
     ]
    }
   ],
   "source": [
    "for numara in benimlist:\n",
    "    if numara == 30:\n",
    "        break \n",
    "    print(numara)"
   ]
  },
  {
   "cell_type": "markdown",
   "metadata": {},
   "source": [
    "Burada olan şu if true geliyorsa break yapıyor yani döngüyü tamamen durduruyor. Bunu nerede kullanabiliriz? Mesela maaş listesinde 100000 yazıyor yani yüz bin. Bu yanlış bir veri o yüzden bir hata mesajı verip döngüyü durdurabilir."
   ]
  },
  {
   "cell_type": "code",
   "execution_count": 4,
   "metadata": {},
   "outputs": [
    {
     "name": "stdout",
     "output_type": "stream",
     "text": [
      "5\n",
      "10\n",
      "30\n",
      "40\n",
      "50\n"
     ]
    }
   ],
   "source": [
    "for number in benimlist:\n",
    "    if number == 20:\n",
    "        continue\n",
    "    print(number)"
   ]
  },
  {
   "cell_type": "markdown",
   "metadata": {},
   "source": [
    "Burada olan ise if true geliyorsa continue yapıyor yani en başa dönüyor. Ama döngü devam ediyor."
   ]
  },
  {
   "cell_type": "code",
   "execution_count": 5,
   "metadata": {},
   "outputs": [],
   "source": [
    "for numbeeeer in benimlist:\n",
    "    pass"
   ]
  },
  {
   "cell_type": "markdown",
   "metadata": {},
   "source": [
    "Ve son olarak buradaki pass sadece hata vermemesi için kullanılır. Mesela oraya hangi kodu koyacağımızı bilmiyorsak veya daha ne yazacağımıza karar veremediysek boşver demek için kullanılır."
   ]
  }
 ],
 "metadata": {
  "kernelspec": {
   "display_name": "Python 3",
   "language": "python",
   "name": "python3"
  },
  "language_info": {
   "codemirror_mode": {
    "name": "ipython",
    "version": 3
   },
   "file_extension": ".py",
   "mimetype": "text/x-python",
   "name": "python",
   "nbconvert_exporter": "python",
   "pygments_lexer": "ipython3",
   "version": "3.8.5"
  }
 },
 "nbformat": 4,
 "nbformat_minor": 4
}
