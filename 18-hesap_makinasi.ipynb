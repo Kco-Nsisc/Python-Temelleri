{
 "cells": [
  {
   "cell_type": "markdown",
   "metadata": {},
   "source": [
    "## Hesap Makinası"
   ]
  },
  {
   "cell_type": "markdown",
   "metadata": {},
   "source": [
    "Hadi öğrendiklerimizle bir çalışma yapalım."
   ]
  },
  {
   "cell_type": "code",
   "execution_count": null,
   "metadata": {},
   "outputs": [
    {
     "name": "stdout",
     "output_type": "stream",
     "text": [
      "ilk sayıyı giriniz 64\n",
      "ikinci sayıyıda girmen gerekiyor 34\n",
      "işlemi giriniz (*,/,+,-) /\n",
      "1.8823529411764706\n",
      "None\n",
      "ilk sayıyı giriniz 34\n",
      "ikinci sayıyıda girmen gerekiyor 62\n",
      "işlemi giriniz (*,/,+,-) +\n",
      "96\n",
      "None\n",
      "ilk sayıyı giriniz 3\n",
      "ikinci sayıyıda girmen gerekiyor 7\n",
      "işlemi giriniz (*,/,+,-) *\n",
      "21\n",
      "None\n",
      "ilk sayıyı giriniz 76\n",
      "ikinci sayıyıda girmen gerekiyor 32\n",
      "işlemi giriniz (*,/,+,-) -\n",
      "44\n",
      "None\n"
     ]
    }
   ],
   "source": [
    "def hesapla(a,b,islem):\n",
    "    if islem not in \"+,-,*,/\":\n",
    "        print(\"niye saçma şeyler giriyorsun ?\")\n",
    "    if islem == \"+\":\n",
    "        print(int(a) + int(b))\n",
    "    elif islem == \"/\":\n",
    "        print(int(a) / int(b))\n",
    "    elif islem == \"*\":\n",
    "        print(int(a) * int(b))\n",
    "    else:\n",
    "        print(int(a) - int(b))\n",
    "while True:\n",
    "    try:\n",
    "        a = input(\"ilk sayıyı giriniz \")\n",
    "        b = input(\"ikinci sayıyıda girmen gerekiyor \")\n",
    "        islem = input(\"işlemi giriniz (*,/,+,-) \")\n",
    "        print(hesapla(a,b,islem))\n",
    "    except:\n",
    "        print(\"niye saçma şeyler giriyorsun ?\")"
   ]
  },
  {
   "cell_type": "markdown",
   "metadata": {},
   "source": [
    "try ve except şu anlama geliyor: bunları (try içindeki) dene hata olursa except yerine gel. Diğer yerleri de biliyorsun"
   ]
  }
 ],
 "metadata": {
  "kernelspec": {
   "display_name": "Python 3",
   "language": "python",
   "name": "python3"
  },
  "language_info": {
   "codemirror_mode": {
    "name": "ipython",
    "version": 3
   },
   "file_extension": ".py",
   "mimetype": "text/x-python",
   "name": "python",
   "nbconvert_exporter": "python",
   "pygments_lexer": "ipython3",
   "version": "3.8.5"
  }
 },
 "nbformat": 4,
 "nbformat_minor": 4
}
